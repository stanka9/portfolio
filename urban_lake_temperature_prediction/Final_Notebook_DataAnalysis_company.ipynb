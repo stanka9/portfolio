{
 "cells": [
  {
   "cell_type": "markdown",
   "metadata": {
    "cell_id": "47338382eaa24fcf84d2e8c26e73747b",
    "deepnote_cell_type": "text-cell-h1",
    "formattedRanges": [],
    "is_collapsed": false,
    "tags": []
   },
   "source": [
    "# Section 0 - Package Upload"
   ]
  },
  {
   "cell_type": "markdown",
   "metadata": {},
   "source": [
    "This code is used for predicting temperature based on data collected from a small lake.\n",
    "\n",
    "The data originates from high frequency sensors from an urban lake (every 20 mins).\n",
    "\n",
    "The model predicts temperature of the water for the next 24 hours as it deals only with hourly data.\n",
    "\n",
    "This European Union Public Licence (the ‘EUPL’) applies to this Work (as defined\n",
    "below) which is provided under the terms of this Licence.\n",
    "\n",
    "The Work is provided under the terms of this Licence when the Licensor (as\n",
    "defined below) has placed the following notice immediately following the\n",
    "copyright notice for the Work:\n",
    "\n",
    "        Licensed under the EUPL\n",
    "\n",
    "or has expressed by any other means his willingness to license under the EUPL.\n",
    "\n",
    "More information about the license can be found: https://joinup.ec.europa.eu/licence/european-union-public-licence-version-12-or-later-eupl"
   ]
  },
  {
   "cell_type": "code",
   "execution_count": 1,
   "metadata": {
    "tags": []
   },
   "outputs": [],
   "source": [
    "# pip install -r\".\\\\requirements.txt\""
   ]
  },
  {
   "cell_type": "code",
   "execution_count": 2,
   "metadata": {
    "cell_id": "26cf2edd02624b738bdd3a3f76eb41d3",
    "deepnote_cell_type": "code",
    "deepnote_to_be_reexecuted": false,
    "execution_millis": 31844,
    "execution_start": 1679216278465,
    "source_hash": "16fca40a",
    "tags": []
   },
   "outputs": [],
   "source": [
    "import pandas as pd\n",
    "import requests\n",
    "import numpy as np \n",
    "import seaborn as sns\n",
    "import scipy\n",
    "import matplotlib.pyplot as plt\n",
    "import math\n",
    "import statsmodels as sm\n",
    "import itertools\n",
    "import urllib\n",
    "\n",
    "from itertools import product\n",
    "from tqdm import tqdm\n",
    "from skimpy import skim\n",
    "from statsmodels.tsa.stattools import adfuller\n",
    "from datetime import datetime, timezone\n",
    "from dateutil.parser import parse\n",
    "from statsmodels.tsa.statespace.sarimax import SARIMAX\n",
    "import warnings\n",
    "warnings.filterwarnings(\"ignore\")\n",
    "from sklearn.metrics import mean_absolute_error, mean_squared_error, r2_score\n",
    "from statsmodels.tsa.stattools import acf\n",
    "from sklearn.model_selection import train_test_split"
   ]
  },
  {
   "cell_type": "markdown",
   "metadata": {
    "cell_id": "bd84a007f8d747f6ad36766391a4b002",
    "deepnote_cell_type": "text-cell-h1",
    "formattedRanges": [],
    "is_collapsed": false,
    "tags": []
   },
   "source": [
    "# Section 1 - Loading the Updated Dataset"
   ]
  },
  {
   "cell_type": "code",
   "execution_count": 3,
   "metadata": {},
   "outputs": [
    {
     "name": "stdout",
     "output_type": "stream",
     "text": [
      "2023-04-24T21:19:40.210928Z\n"
     ]
    }
   ],
   "source": [
    "# get today's date\n",
    "today = datetime.today()\n",
    "\n",
    "# create a datetime object with the desired format\n",
    "date_string = today.strftime('%Y-%m-%dT%H:%M:%S.%fZ')\n",
    "\n",
    "# convert the datetime object to UTC timezone\n",
    "date_obj = datetime.strptime(date_string, '%Y-%m-%dT%H:%M:%S.%fZ').replace(tzinfo=timezone.utc)\n",
    "\n",
    "# print the date in the desired format\n",
    "print(date_obj.strftime('%Y-%m-%dT%H:%M:%S.%fZ'))"
   ]
  },
  {
   "cell_type": "markdown",
   "metadata": {},
   "source": [
    "## API"
   ]
  },
  {
   "cell_type": "code",
   "execution_count": 4,
   "metadata": {
    "cell_id": "0109f707f89f49638d897a3bf364f4e7",
    "deepnote_cell_type": "code",
    "deepnote_to_be_reexecuted": false,
    "execution_millis": 5809,
    "execution_start": 1679218390120,
    "source_hash": "f6739cec",
    "tags": []
   },
   "outputs": [
    {
     "name": "stdout",
     "output_type": "stream",
     "text": [
      "200\n",
      "200\n",
      "200\n",
      "200\n",
      "200\n"
     ]
    }
   ],
   "source": [
    "#removed for sharing purposes\n",
    "SENSOR = ''\n",
    "TOKEN = ''\n",
    "#url= f'https://app.odi.clickbar.app/api/sensors/{sensor}/data?filter[measured_at_after]=2022-12-01T00:00:00.000000Z'\n",
    "headers = {\n",
    "  'content-type': 'application/json',\n",
    "  'authorization': f'Bearer {token}'\n",
    "}\n",
    "url= f''\n",
    "end_time_string = \"2022-06-01T01:00:00.000000Z\"  #date where only the other sensor was active\n",
    "\n",
    "#end_time = datetime.strptime(end_time_string, '%Y-%m-%dT%H:%M:%S.%fZ').replace(tzinfo=timezone.utc)\n",
    "parameter_dict = {'filter[measured_at_before]': date_obj}\n",
    "\n",
    "df = pd.DataFrame()\n",
    "\n",
    "while str(end_time_string) < str(parameter_dict['filter[measured_at_before]']):\n",
    "    parameters = urllib.parse.urlencode(parameter_dict)\n",
    "    get_url = url + parameters\n",
    "    r = requests.request('GET',url=get_url,headers=headers)\n",
    "    print(r.status_code)\n",
    "    data_json = r.json()\n",
    "    df_update = pd.json_normalize(data_json)\n",
    "    df = pd.concat([df, df_update], ignore_index=True)    \n",
    "    parameter_dict['filter[measured_at_before]'] = data_json[-1]['measured_at']"
   ]
  },
  {
   "cell_type": "code",
   "execution_count": 5,
   "metadata": {
    "cell_id": "b624c61206d54309a0eb7156a2d0dc37",
    "deepnote_cell_type": "code",
    "deepnote_table_loading": false,
    "deepnote_table_state": {
     "filters": [],
     "pageIndex": 0,
     "pageSize": 10,
     "sortBy": [
      {
       "id": "created_at",
       "type": "asc"
      }
     ]
    },
    "deepnote_to_be_reexecuted": false,
    "execution_millis": 103,
    "execution_start": 1679218395933,
    "source_hash": "c750d5d8",
    "tags": []
   },
   "outputs": [
    {
     "data": {
      "text/html": [
       "<div>\n",
       "<style scoped>\n",
       "    .dataframe tbody tr th:only-of-type {\n",
       "        vertical-align: middle;\n",
       "    }\n",
       "\n",
       "    .dataframe tbody tr th {\n",
       "        vertical-align: top;\n",
       "    }\n",
       "\n",
       "    .dataframe thead th {\n",
       "        text-align: right;\n",
       "    }\n",
       "</style>\n",
       "<table border=\"1\" class=\"dataframe\">\n",
       "  <thead>\n",
       "    <tr style=\"text-align: right;\">\n",
       "      <th></th>\n",
       "      <th>id</th>\n",
       "      <th>temperature</th>\n",
       "      <th>orp</th>\n",
       "      <th>ph</th>\n",
       "      <th>do</th>\n",
       "      <th>ec</th>\n",
       "      <th>battery</th>\n",
       "      <th>sensor_device_id</th>\n",
       "      <th>measured_at</th>\n",
       "      <th>unix_time</th>\n",
       "      <th>created_at</th>\n",
       "      <th>updated_at</th>\n",
       "    </tr>\n",
       "  </thead>\n",
       "  <tbody>\n",
       "    <tr>\n",
       "      <th>0</th>\n",
       "      <td>1e949f0f-c97e-4857-91aa-43a1f4144ce5</td>\n",
       "      <td>16.2</td>\n",
       "      <td>6.02</td>\n",
       "      <td>8.3</td>\n",
       "      <td>63.7</td>\n",
       "      <td>1557</td>\n",
       "      <td>100</td>\n",
       "      <td>0004A30B00EF6918</td>\n",
       "      <td>2023-04-24T19:14:03.000000Z</td>\n",
       "      <td>1682363642218</td>\n",
       "      <td>2023-04-24T19:15:09.000000Z</td>\n",
       "      <td>2023-04-24T19:15:09.000000Z</td>\n",
       "    </tr>\n",
       "  </tbody>\n",
       "</table>\n",
       "</div>"
      ],
      "text/plain": [
       "                                     id  temperature   orp   ph    do    ec  \\\n",
       "0  1e949f0f-c97e-4857-91aa-43a1f4144ce5         16.2  6.02  8.3  63.7  1557   \n",
       "\n",
       "   battery  sensor_device_id                  measured_at      unix_time  \\\n",
       "0      100  0004A30B00EF6918  2023-04-24T19:14:03.000000Z  1682363642218   \n",
       "\n",
       "                    created_at                   updated_at  \n",
       "0  2023-04-24T19:15:09.000000Z  2023-04-24T19:15:09.000000Z  "
      ]
     },
     "execution_count": 5,
     "metadata": {},
     "output_type": "execute_result"
    }
   ],
   "source": [
    "# filter for the sensor under study\n",
    "df = df[df['sensor_device_id'] == '0004A30B00EF6918'] # change the sensor_id\n",
    "df.head(1)"
   ]
  },
  {
   "cell_type": "code",
   "execution_count": 6,
   "metadata": {},
   "outputs": [],
   "source": [
    "df['measured_at'] = pd.to_datetime(df['measured_at'])\n",
    "# extract year, month, day, and hour\n",
    "df['year'] = df['measured_at'].dt.year\n",
    "df['month'] = df['measured_at'].dt.month\n",
    "df['day'] = df['measured_at'].dt.day\n",
    "df['hour'] = df['measured_at'].dt.hour\n",
    "df['minutes'] = df['measured_at'].dt.minute\n",
    "df['seconds'] = df['measured_at'].dt.second"
   ]
  },
  {
   "cell_type": "code",
   "execution_count": 7,
   "metadata": {
    "tags": []
   },
   "outputs": [
    {
     "data": {
      "text/html": [
       "<div>\n",
       "<style scoped>\n",
       "    .dataframe tbody tr th:only-of-type {\n",
       "        vertical-align: middle;\n",
       "    }\n",
       "\n",
       "    .dataframe tbody tr th {\n",
       "        vertical-align: top;\n",
       "    }\n",
       "\n",
       "    .dataframe thead th {\n",
       "        text-align: right;\n",
       "    }\n",
       "</style>\n",
       "<table border=\"1\" class=\"dataframe\">\n",
       "  <thead>\n",
       "    <tr style=\"text-align: right;\">\n",
       "      <th></th>\n",
       "      <th>id</th>\n",
       "      <th>temperature</th>\n",
       "      <th>orp</th>\n",
       "      <th>ph</th>\n",
       "      <th>do</th>\n",
       "      <th>ec</th>\n",
       "      <th>battery</th>\n",
       "      <th>sensor_device_id</th>\n",
       "      <th>unix_time</th>\n",
       "      <th>created_at</th>\n",
       "      <th>updated_at</th>\n",
       "      <th>year</th>\n",
       "      <th>month</th>\n",
       "      <th>day</th>\n",
       "      <th>hour</th>\n",
       "      <th>minutes</th>\n",
       "      <th>seconds</th>\n",
       "    </tr>\n",
       "    <tr>\n",
       "      <th>measured_at</th>\n",
       "      <th></th>\n",
       "      <th></th>\n",
       "      <th></th>\n",
       "      <th></th>\n",
       "      <th></th>\n",
       "      <th></th>\n",
       "      <th></th>\n",
       "      <th></th>\n",
       "      <th></th>\n",
       "      <th></th>\n",
       "      <th></th>\n",
       "      <th></th>\n",
       "      <th></th>\n",
       "      <th></th>\n",
       "      <th></th>\n",
       "      <th></th>\n",
       "      <th></th>\n",
       "    </tr>\n",
       "  </thead>\n",
       "  <tbody>\n",
       "    <tr>\n",
       "      <th>2023-04-24 19:14:03+00:00</th>\n",
       "      <td>1e949f0f-c97e-4857-91aa-43a1f4144ce5</td>\n",
       "      <td>16.2</td>\n",
       "      <td>6.02</td>\n",
       "      <td>8.30</td>\n",
       "      <td>63.7</td>\n",
       "      <td>1557</td>\n",
       "      <td>100</td>\n",
       "      <td>0004A30B00EF6918</td>\n",
       "      <td>1682363642218</td>\n",
       "      <td>2023-04-24T19:15:09.000000Z</td>\n",
       "      <td>2023-04-24T19:15:09.000000Z</td>\n",
       "      <td>2023</td>\n",
       "      <td>4</td>\n",
       "      <td>24</td>\n",
       "      <td>19</td>\n",
       "      <td>14</td>\n",
       "      <td>3</td>\n",
       "    </tr>\n",
       "    <tr>\n",
       "      <th>2023-04-24 18:53:32+00:00</th>\n",
       "      <td>39658037-88c2-48f3-8942-b6b130ab35e3</td>\n",
       "      <td>16.3</td>\n",
       "      <td>5.88</td>\n",
       "      <td>8.30</td>\n",
       "      <td>64.3</td>\n",
       "      <td>1560</td>\n",
       "      <td>100</td>\n",
       "      <td>0004A30B00EF6918</td>\n",
       "      <td>1682362411470</td>\n",
       "      <td>2023-04-24T19:00:13.000000Z</td>\n",
       "      <td>2023-04-24T19:00:13.000000Z</td>\n",
       "      <td>2023</td>\n",
       "      <td>4</td>\n",
       "      <td>24</td>\n",
       "      <td>18</td>\n",
       "      <td>53</td>\n",
       "      <td>32</td>\n",
       "    </tr>\n",
       "    <tr>\n",
       "      <th>2023-04-24 18:33:09+00:00</th>\n",
       "      <td>11f93134-6149-4605-b387-474d51458d94</td>\n",
       "      <td>16.3</td>\n",
       "      <td>6.37</td>\n",
       "      <td>8.28</td>\n",
       "      <td>62.4</td>\n",
       "      <td>1562</td>\n",
       "      <td>100</td>\n",
       "      <td>0004A30B00EF6918</td>\n",
       "      <td>1682361188462</td>\n",
       "      <td>2023-04-24T18:45:07.000000Z</td>\n",
       "      <td>2023-04-24T18:45:07.000000Z</td>\n",
       "      <td>2023</td>\n",
       "      <td>4</td>\n",
       "      <td>24</td>\n",
       "      <td>18</td>\n",
       "      <td>33</td>\n",
       "      <td>9</td>\n",
       "    </tr>\n",
       "    <tr>\n",
       "      <th>2023-04-24 18:12:46+00:00</th>\n",
       "      <td>20eb4b06-12ab-443b-8208-d2cfe954e44d</td>\n",
       "      <td>16.3</td>\n",
       "      <td>6.01</td>\n",
       "      <td>8.28</td>\n",
       "      <td>62.3</td>\n",
       "      <td>1563</td>\n",
       "      <td>100</td>\n",
       "      <td>0004A30B00EF6918</td>\n",
       "      <td>1682359965494</td>\n",
       "      <td>2023-04-24T18:15:07.000000Z</td>\n",
       "      <td>2023-04-24T18:15:07.000000Z</td>\n",
       "      <td>2023</td>\n",
       "      <td>4</td>\n",
       "      <td>24</td>\n",
       "      <td>18</td>\n",
       "      <td>12</td>\n",
       "      <td>46</td>\n",
       "    </tr>\n",
       "    <tr>\n",
       "      <th>2023-04-24 17:52:17+00:00</th>\n",
       "      <td>8031c8c3-b6ec-493c-8d9a-9470803d1219</td>\n",
       "      <td>16.3</td>\n",
       "      <td>6.00</td>\n",
       "      <td>8.28</td>\n",
       "      <td>63.0</td>\n",
       "      <td>1562</td>\n",
       "      <td>99</td>\n",
       "      <td>0004A30B00EF6918</td>\n",
       "      <td>1682358736446</td>\n",
       "      <td>2023-04-24T18:00:12.000000Z</td>\n",
       "      <td>2023-04-24T18:00:12.000000Z</td>\n",
       "      <td>2023</td>\n",
       "      <td>4</td>\n",
       "      <td>24</td>\n",
       "      <td>17</td>\n",
       "      <td>52</td>\n",
       "      <td>17</td>\n",
       "    </tr>\n",
       "    <tr>\n",
       "      <th>...</th>\n",
       "      <td>...</td>\n",
       "      <td>...</td>\n",
       "      <td>...</td>\n",
       "      <td>...</td>\n",
       "      <td>...</td>\n",
       "      <td>...</td>\n",
       "      <td>...</td>\n",
       "      <td>...</td>\n",
       "      <td>...</td>\n",
       "      <td>...</td>\n",
       "      <td>...</td>\n",
       "      <td>...</td>\n",
       "      <td>...</td>\n",
       "      <td>...</td>\n",
       "      <td>...</td>\n",
       "      <td>...</td>\n",
       "      <td>...</td>\n",
       "    </tr>\n",
       "    <tr>\n",
       "      <th>2022-07-19 06:24:23+00:00</th>\n",
       "      <td>b1481ed9-aaab-4681-9870-008affaa5ae1</td>\n",
       "      <td>11.7</td>\n",
       "      <td>0.44</td>\n",
       "      <td>652.76</td>\n",
       "      <td>100.0</td>\n",
       "      <td>1</td>\n",
       "      <td>93</td>\n",
       "      <td>0004A30B00EF6918</td>\n",
       "      <td>1658211863706</td>\n",
       "      <td>2022-08-02T06:45:17.000000Z</td>\n",
       "      <td>2022-08-02T06:45:17.000000Z</td>\n",
       "      <td>2022</td>\n",
       "      <td>7</td>\n",
       "      <td>19</td>\n",
       "      <td>6</td>\n",
       "      <td>24</td>\n",
       "      <td>23</td>\n",
       "    </tr>\n",
       "    <tr>\n",
       "      <th>2022-07-19 06:04:00+00:00</th>\n",
       "      <td>bdc69a8d-925e-421b-9617-a353bc6b7d7e</td>\n",
       "      <td>11.7</td>\n",
       "      <td>0.44</td>\n",
       "      <td>652.78</td>\n",
       "      <td>100.0</td>\n",
       "      <td>1</td>\n",
       "      <td>93</td>\n",
       "      <td>0004A30B00EF6918</td>\n",
       "      <td>1658210640721</td>\n",
       "      <td>2022-08-02T06:45:17.000000Z</td>\n",
       "      <td>2022-08-02T06:45:17.000000Z</td>\n",
       "      <td>2022</td>\n",
       "      <td>7</td>\n",
       "      <td>19</td>\n",
       "      <td>6</td>\n",
       "      <td>4</td>\n",
       "      <td>0</td>\n",
       "    </tr>\n",
       "    <tr>\n",
       "      <th>2022-07-19 05:43:37+00:00</th>\n",
       "      <td>d32af223-d59a-4d97-9ee1-1d69d924341b</td>\n",
       "      <td>11.7</td>\n",
       "      <td>0.44</td>\n",
       "      <td>652.79</td>\n",
       "      <td>100.0</td>\n",
       "      <td>1</td>\n",
       "      <td>93</td>\n",
       "      <td>0004A30B00EF6918</td>\n",
       "      <td>1658209417717</td>\n",
       "      <td>2022-08-02T06:45:17.000000Z</td>\n",
       "      <td>2022-08-02T06:45:17.000000Z</td>\n",
       "      <td>2022</td>\n",
       "      <td>7</td>\n",
       "      <td>19</td>\n",
       "      <td>5</td>\n",
       "      <td>43</td>\n",
       "      <td>37</td>\n",
       "    </tr>\n",
       "    <tr>\n",
       "      <th>2022-07-19 05:23:14+00:00</th>\n",
       "      <td>50427607-51e0-47f9-9cb9-a7d75ed59c0a</td>\n",
       "      <td>11.7</td>\n",
       "      <td>0.44</td>\n",
       "      <td>652.78</td>\n",
       "      <td>100.0</td>\n",
       "      <td>1</td>\n",
       "      <td>92</td>\n",
       "      <td>0004A30B00EF6918</td>\n",
       "      <td>1658208194711</td>\n",
       "      <td>2022-08-02T06:45:17.000000Z</td>\n",
       "      <td>2022-08-02T06:45:17.000000Z</td>\n",
       "      <td>2022</td>\n",
       "      <td>7</td>\n",
       "      <td>19</td>\n",
       "      <td>5</td>\n",
       "      <td>23</td>\n",
       "      <td>14</td>\n",
       "    </tr>\n",
       "    <tr>\n",
       "      <th>2022-07-19 05:02:51+00:00</th>\n",
       "      <td>60a799e1-8070-4163-8353-8b62e694804e</td>\n",
       "      <td>11.7</td>\n",
       "      <td>0.44</td>\n",
       "      <td>652.78</td>\n",
       "      <td>100.0</td>\n",
       "      <td>1</td>\n",
       "      <td>93</td>\n",
       "      <td>0004A30B00EF6918</td>\n",
       "      <td>1658206971706</td>\n",
       "      <td>2022-08-02T06:45:17.000000Z</td>\n",
       "      <td>2022-08-02T06:45:17.000000Z</td>\n",
       "      <td>2022</td>\n",
       "      <td>7</td>\n",
       "      <td>19</td>\n",
       "      <td>5</td>\n",
       "      <td>2</td>\n",
       "      <td>51</td>\n",
       "    </tr>\n",
       "  </tbody>\n",
       "</table>\n",
       "<p>19016 rows × 17 columns</p>\n",
       "</div>"
      ],
      "text/plain": [
       "                                                             id  temperature  \\\n",
       "measured_at                                                                    \n",
       "2023-04-24 19:14:03+00:00  1e949f0f-c97e-4857-91aa-43a1f4144ce5         16.2   \n",
       "2023-04-24 18:53:32+00:00  39658037-88c2-48f3-8942-b6b130ab35e3         16.3   \n",
       "2023-04-24 18:33:09+00:00  11f93134-6149-4605-b387-474d51458d94         16.3   \n",
       "2023-04-24 18:12:46+00:00  20eb4b06-12ab-443b-8208-d2cfe954e44d         16.3   \n",
       "2023-04-24 17:52:17+00:00  8031c8c3-b6ec-493c-8d9a-9470803d1219         16.3   \n",
       "...                                                         ...          ...   \n",
       "2022-07-19 06:24:23+00:00  b1481ed9-aaab-4681-9870-008affaa5ae1         11.7   \n",
       "2022-07-19 06:04:00+00:00  bdc69a8d-925e-421b-9617-a353bc6b7d7e         11.7   \n",
       "2022-07-19 05:43:37+00:00  d32af223-d59a-4d97-9ee1-1d69d924341b         11.7   \n",
       "2022-07-19 05:23:14+00:00  50427607-51e0-47f9-9cb9-a7d75ed59c0a         11.7   \n",
       "2022-07-19 05:02:51+00:00  60a799e1-8070-4163-8353-8b62e694804e         11.7   \n",
       "\n",
       "                            orp      ph     do    ec  battery  \\\n",
       "measured_at                                                     \n",
       "2023-04-24 19:14:03+00:00  6.02    8.30   63.7  1557      100   \n",
       "2023-04-24 18:53:32+00:00  5.88    8.30   64.3  1560      100   \n",
       "2023-04-24 18:33:09+00:00  6.37    8.28   62.4  1562      100   \n",
       "2023-04-24 18:12:46+00:00  6.01    8.28   62.3  1563      100   \n",
       "2023-04-24 17:52:17+00:00  6.00    8.28   63.0  1562       99   \n",
       "...                         ...     ...    ...   ...      ...   \n",
       "2022-07-19 06:24:23+00:00  0.44  652.76  100.0     1       93   \n",
       "2022-07-19 06:04:00+00:00  0.44  652.78  100.0     1       93   \n",
       "2022-07-19 05:43:37+00:00  0.44  652.79  100.0     1       93   \n",
       "2022-07-19 05:23:14+00:00  0.44  652.78  100.0     1       92   \n",
       "2022-07-19 05:02:51+00:00  0.44  652.78  100.0     1       93   \n",
       "\n",
       "                           sensor_device_id      unix_time  \\\n",
       "measured_at                                                  \n",
       "2023-04-24 19:14:03+00:00  0004A30B00EF6918  1682363642218   \n",
       "2023-04-24 18:53:32+00:00  0004A30B00EF6918  1682362411470   \n",
       "2023-04-24 18:33:09+00:00  0004A30B00EF6918  1682361188462   \n",
       "2023-04-24 18:12:46+00:00  0004A30B00EF6918  1682359965494   \n",
       "2023-04-24 17:52:17+00:00  0004A30B00EF6918  1682358736446   \n",
       "...                                     ...            ...   \n",
       "2022-07-19 06:24:23+00:00  0004A30B00EF6918  1658211863706   \n",
       "2022-07-19 06:04:00+00:00  0004A30B00EF6918  1658210640721   \n",
       "2022-07-19 05:43:37+00:00  0004A30B00EF6918  1658209417717   \n",
       "2022-07-19 05:23:14+00:00  0004A30B00EF6918  1658208194711   \n",
       "2022-07-19 05:02:51+00:00  0004A30B00EF6918  1658206971706   \n",
       "\n",
       "                                            created_at  \\\n",
       "measured_at                                              \n",
       "2023-04-24 19:14:03+00:00  2023-04-24T19:15:09.000000Z   \n",
       "2023-04-24 18:53:32+00:00  2023-04-24T19:00:13.000000Z   \n",
       "2023-04-24 18:33:09+00:00  2023-04-24T18:45:07.000000Z   \n",
       "2023-04-24 18:12:46+00:00  2023-04-24T18:15:07.000000Z   \n",
       "2023-04-24 17:52:17+00:00  2023-04-24T18:00:12.000000Z   \n",
       "...                                                ...   \n",
       "2022-07-19 06:24:23+00:00  2022-08-02T06:45:17.000000Z   \n",
       "2022-07-19 06:04:00+00:00  2022-08-02T06:45:17.000000Z   \n",
       "2022-07-19 05:43:37+00:00  2022-08-02T06:45:17.000000Z   \n",
       "2022-07-19 05:23:14+00:00  2022-08-02T06:45:17.000000Z   \n",
       "2022-07-19 05:02:51+00:00  2022-08-02T06:45:17.000000Z   \n",
       "\n",
       "                                            updated_at  year  month  day  \\\n",
       "measured_at                                                                \n",
       "2023-04-24 19:14:03+00:00  2023-04-24T19:15:09.000000Z  2023      4   24   \n",
       "2023-04-24 18:53:32+00:00  2023-04-24T19:00:13.000000Z  2023      4   24   \n",
       "2023-04-24 18:33:09+00:00  2023-04-24T18:45:07.000000Z  2023      4   24   \n",
       "2023-04-24 18:12:46+00:00  2023-04-24T18:15:07.000000Z  2023      4   24   \n",
       "2023-04-24 17:52:17+00:00  2023-04-24T18:00:12.000000Z  2023      4   24   \n",
       "...                                                ...   ...    ...  ...   \n",
       "2022-07-19 06:24:23+00:00  2022-08-02T06:45:17.000000Z  2022      7   19   \n",
       "2022-07-19 06:04:00+00:00  2022-08-02T06:45:17.000000Z  2022      7   19   \n",
       "2022-07-19 05:43:37+00:00  2022-08-02T06:45:17.000000Z  2022      7   19   \n",
       "2022-07-19 05:23:14+00:00  2022-08-02T06:45:17.000000Z  2022      7   19   \n",
       "2022-07-19 05:02:51+00:00  2022-08-02T06:45:17.000000Z  2022      7   19   \n",
       "\n",
       "                           hour  minutes  seconds  \n",
       "measured_at                                        \n",
       "2023-04-24 19:14:03+00:00    19       14        3  \n",
       "2023-04-24 18:53:32+00:00    18       53       32  \n",
       "2023-04-24 18:33:09+00:00    18       33        9  \n",
       "2023-04-24 18:12:46+00:00    18       12       46  \n",
       "2023-04-24 17:52:17+00:00    17       52       17  \n",
       "...                         ...      ...      ...  \n",
       "2022-07-19 06:24:23+00:00     6       24       23  \n",
       "2022-07-19 06:04:00+00:00     6        4        0  \n",
       "2022-07-19 05:43:37+00:00     5       43       37  \n",
       "2022-07-19 05:23:14+00:00     5       23       14  \n",
       "2022-07-19 05:02:51+00:00     5        2       51  \n",
       "\n",
       "[19016 rows x 17 columns]"
      ]
     },
     "execution_count": 7,
     "metadata": {},
     "output_type": "execute_result"
    }
   ],
   "source": [
    "df.set_index('measured_at')"
   ]
  },
  {
   "cell_type": "code",
   "execution_count": 8,
   "metadata": {},
   "outputs": [],
   "source": [
    "df.drop(columns=['sensor_device_id','unix_time','created_at','updated_at'], inplace=True)"
   ]
  },
  {
   "cell_type": "code",
   "execution_count": 9,
   "metadata": {},
   "outputs": [],
   "source": [
    "df = df[df['measured_at'] > pd.Timestamp('2022-08-01', tz='UTC')] # in case you change the sensor ID, do not run this!"
   ]
  },
  {
   "cell_type": "code",
   "execution_count": 10,
   "metadata": {},
   "outputs": [],
   "source": [
    "# in case of null values fill the thing with previous one\n",
    "# no missing value\n",
    "df.loc[:].fillna(method='ffill', inplace=True)"
   ]
  },
  {
   "cell_type": "markdown",
   "metadata": {
    "tags": []
   },
   "source": [
    "## Train and test sets"
   ]
  },
  {
   "cell_type": "code",
   "execution_count": 11,
   "metadata": {},
   "outputs": [],
   "source": [
    "df['measured_at'] = df['measured_at'].apply(lambda x: datetime.strftime(x, '%Y-%m-%d %H:%M:%S'))\n",
    "df['time']=df['measured_at']\n",
    "df.set_index('time', inplace=True)\n",
    "df.index = pd.to_datetime(df.index)"
   ]
  },
  {
   "cell_type": "code",
   "execution_count": 12,
   "metadata": {},
   "outputs": [],
   "source": [
    "df_hourly= df.resample('h').mean()"
   ]
  },
  {
   "cell_type": "code",
   "execution_count": 13,
   "metadata": {},
   "outputs": [],
   "source": [
    "df_hourly = df_hourly.dropna()\n",
    "# splitting the dataset into train and test set in order to optimize the final model\n",
    "train, test = train_test_split(df_hourly, test_size=0.1, shuffle=False)\n",
    "train_t=train[['temperature']]\n",
    "test_t=test[['temperature']]"
   ]
  },
  {
   "cell_type": "markdown",
   "metadata": {},
   "source": [
    "## Introduction to Time Series Analysis"
   ]
  },
  {
   "cell_type": "markdown",
   "metadata": {},
   "source": [
    "There are numerous options to temperature prediction, in the case of univariate models. In our case, we used SARIMA model:\n",
    "* SARIMA is a more complex model composed from multiple elements. It considers the complexity of the trend and seasonality. It leverages the power of  the product method to deal with the complex relationship between different effect components.\n",
    "   * Averaging methods (MA) predict data based on a constant amount of grouped data points averaged over the course of the series. It includes randomness and it gets rid of short-term fluctuations.\n",
    "   * Autoregression regression (AR) is a linear model where the coefficients are based the autocorrelation components.\n",
    "   * ARIMA – combines AR, I and MA. (I) part enables the method to differentiate the series so that it becomes stationary. (MA) part uses the dependency between an observation and the errors from a moving average model and (AR) represents the autoregressive part.\n",
    "   * SARIMA builds up on ARIMA and adds the seasonality factor.\n",
    " \n",
    " \n",
    "In the following lines, we will present SARIMA, given academic and practical proof of its use for temperature predictions.\n",
    " \n",
    "Sources:\n",
    "\n",
    "ScienceDirect (2023). Moving Average. Retrieved from: https://www.sciencedirect.com/topics/engineering/moving-average#:~:text=A%20moving%20average%20is%20defined,next%20in%20each%20successive%20average. \n",
    "\n",
    "Brownlee. Jason (2017, January 9 ). ARIMA for Time Series Forecasting With Python. Machine Learning Mastery. Available at: https://machinelearningmastery.com/arima-for-time-series-forecasting-with-python/. [Accessed online at 11/04/2023]\n",
    "\n",
    "Hyndman, R. J., & Athanasopoulos, G. (2018). Forecasting: principles and practice. OTexts. [Accessed online at 11/04/2023]\n"
   ]
  },
  {
   "cell_type": "markdown",
   "metadata": {},
   "source": [
    "We will evaluate the model based on several measurements:\n",
    " * AIC or  Akaike information criterion estimates the relative quality of a model in comparison with a different model. It doesn't deliver information in absolute terms, but can be interpretated in comparison with alternative models. The lower the value, the better the model.\n",
    " * MAE or Mean Absolute Error is a measure of errors between paired data points, one being the prediction and one the actual observations, without considering the direction.\n",
    " * MSE or Mean Squared Error is the average of the squared difference between the estimated values and the actual value. It penalizes large errors, whereas MAE doesn't.\n",
    " * RMSE is the squared root of MSE. Both RMSE and MSE are highly biased for extreme values, whereas MAE isn't."
   ]
  },
  {
   "cell_type": "markdown",
   "metadata": {},
   "source": [
    "# Section 3 - SARIMA"
   ]
  },
  {
   "cell_type": "markdown",
   "metadata": {
    "tags": []
   },
   "source": [
    "## SARIMA Model - Hourly Data "
   ]
  },
  {
   "cell_type": "markdown",
   "metadata": {},
   "source": [
    "Non-seasonal parameters: \n",
    "* p = order of the autoregressive part;\n",
    "* d= degree of first differencing involved;\n",
    "* q = order of the moving average part.\n",
    "\n",
    "Seasonal parameters:\n",
    "* P = seasonal autoregressive part;\n",
    "* D = seasonal difference/ differencing; \n",
    "* Q = seasonal moving average part;\n",
    "* s = the number of time steps for one season.\n",
    "\n",
    "* While P and Q may either be integers indicating the AR and MA orders (following the above explanations) or else iterables providing specific AR and/or MA lags to include, D must be an integer representing the integration order of the process. The periodicity (number of seasons) is indicated by the integer s, which is typically 4 for quarterly data or 12 for monthly data. No seasonal effect is the default. In this particular case, the seasonality is 4. "
   ]
  },
  {
   "cell_type": "code",
   "execution_count": 14,
   "metadata": {},
   "outputs": [],
   "source": [
    "train, test = train_test_split(df_hourly, test_size=0.1, shuffle=False)\n",
    "train_t=train[['temperature']] #do, pH\n",
    "test_t=test[['temperature']] #do, pH"
   ]
  },
  {
   "cell_type": "code",
   "execution_count": 15,
   "metadata": {},
   "outputs": [],
   "source": [
    "# It checks for the optimal seasonal differencing in a time series data. \n",
    "# The function takes two parameters and it delivers the D - seasonal differencing \n",
    "# It performs the Adfuller test to check if the data should be adjusted\n",
    "def check_seasonal_differencing(ts, max_d=5):\n",
    "    for d in range(max_d+1):\n",
    "        adf_result = adfuller(ts.diff(d).dropna())\n",
    "        p_value = adf_result[1]\n",
    "        if p_value < 0.05:\n",
    "            break\n",
    "    if d > 0:\n",
    "        for D in range(1, 13):\n",
    "            adf_result = adfuller(ts.diff(D*4).dropna())\n",
    "            p_value = adf_result[1]\n",
    "            if p_value < 0.05:\n",
    "                return D, d\n",
    "    else:\n",
    "        return 0, d"
   ]
  },
  {
   "cell_type": "code",
   "execution_count": 16,
   "metadata": {},
   "outputs": [],
   "source": [
    "D_factor = check_seasonal_differencing(train_t, max_d=2) # this is the seasonal differenciating"
   ]
  },
  {
   "cell_type": "code",
   "execution_count": 17,
   "metadata": {
    "tags": []
   },
   "outputs": [],
   "source": [
    "# Seasonally moving average part is also derived here:\n",
    "def check_moving_average(ts):\n",
    "    seasonal_ma = ts.diff(4)\n",
    "    acf_vals = acf(seasonal_ma.dropna(), fft=False)\n",
    "    # Determine order of seasonal moving average component\n",
    "    Q = 0\n",
    "    for i in range(1, len(acf_vals)):\n",
    "        if abs(acf_vals[i]) > 1.96/np.sqrt(len(seasonal_ma)):\n",
    "            if i % 4 == 0:\n",
    "                Q = i//4\n",
    "            else:\n",
    "                break\n",
    "    return Q\n",
    "Q_factor = check_moving_average(train_t) # this is the moving average for the seasonal trend"
   ]
  },
  {
   "cell_type": "code",
   "execution_count": 18,
   "metadata": {},
   "outputs": [
    {
     "name": "stderr",
     "output_type": "stream",
     "text": [
      "100%|██████████| 200/200 [27:20<00:00,  8.20s/it]\n"
     ]
    }
   ],
   "source": [
    "def optimize_SARIMA(order_list, exog):\n",
    "    results = []\n",
    "    for order in tqdm(order_list):\n",
    "        # fitting the model based on the given assumptions\n",
    "        # 4 seasons is derived frome expert knowledge\n",
    "        model_sarima = SARIMAX(exog,order=order,seasonal_order=(0, D_factor[0], Q_factor, 4)).fit(disp=-1)\n",
    "        ma_params = model_sarima.params[-order[2]:]\n",
    "        roots = np.roots(np.concatenate(([1], -ma_params)))\n",
    "        if np.any(np.abs(roots) >= 1):\n",
    "            continue\n",
    "        # deriving the AIC\n",
    "        aic = model_sarima.aic\n",
    "        # appending the AIC\n",
    "        results.append([order, aic])\n",
    "    result_df = pd.DataFrame(results)\n",
    "    result_df.columns = ['(p, d, q)', 'AIC']\n",
    "    result_df = result_df.sort_values(by='AIC', ascending=True).reset_index(drop=True)\n",
    "    return result_df\n",
    "\n",
    "# running now all possible options \n",
    "ps = range(0, 10, 1)\n",
    "ds = range(0, 2, 1)\n",
    "qs = range(0, 10, 1)\n",
    "parameters = product(ps, qs)\n",
    "parameters_list = list(parameters)\n",
    "order_list = []\n",
    "for p in ps:\n",
    "    for d in ds:\n",
    "        for q in qs:\n",
    "            order_list.append((p, d, q))\n",
    "result_d = optimize_SARIMA(order_list=order_list, exog=train_t) # Deriving the set of all possible solutions and optimizing it"
   ]
  },
  {
   "cell_type": "code",
   "execution_count": 19,
   "metadata": {
    "tags": []
   },
   "outputs": [],
   "source": [
    "SARIMA_optimal = result_d.iloc[0, 0]"
   ]
  },
  {
   "cell_type": "markdown",
   "metadata": {},
   "source": [
    "## Running SARIMA in order to predict the test set"
   ]
  },
  {
   "cell_type": "code",
   "execution_count": 20,
   "metadata": {},
   "outputs": [
    {
     "name": "stdout",
     "output_type": "stream",
     "text": [
      "MAE: 1.5925330043069015\n",
      "MSE: 3.627436389637191\n",
      "RMSE: 1.9045829962585488\n",
      "AIC: -12384.971\n"
     ]
    }
   ],
   "source": [
    "# fit model\n",
    "sarima_model = SARIMAX(train_t, order=SARIMA_optimal, seasonal_order=(0, D_factor[0], Q_factor, 4))\n",
    "sarima_model_fit = sarima_model.fit()\n",
    "# make prediction\n",
    "predictions = sarima_model_fit.predict(start=len(train_t), end=len(train_t)+len(test_t)-1)\n",
    "mae = mean_absolute_error(test_t, predictions)\n",
    "mse = mean_squared_error(test_t, predictions)\n",
    "rmse = np.sqrt(mse)\n",
    "\n",
    "print('MAE:', mae)\n",
    "print('MSE:', mse)\n",
    "print('RMSE:', rmse)\n",
    "aic_score = sarima_model_fit.aic\n",
    "print(f'AIC: {aic_score:.3f}')"
   ]
  },
  {
   "cell_type": "markdown",
   "metadata": {},
   "source": [
    "## SARIMA Future predictions"
   ]
  },
  {
   "cell_type": "code",
   "execution_count": 21,
   "metadata": {},
   "outputs": [],
   "source": [
    "temperature =df_hourly[['temperature']]"
   ]
  },
  {
   "cell_type": "code",
   "execution_count": 22,
   "metadata": {},
   "outputs": [
    {
     "name": "stdout",
     "output_type": "stream",
     "text": [
      "AIC: -13511.270\n"
     ]
    }
   ],
   "source": [
    "# fit model\n",
    "sarima_model = SARIMAX(temperature, \n",
    "                       order=SARIMA_optimal, \n",
    "                       seasonal_order=(0, D_factor[0], Q_factor, 4))\n",
    "sarima_model_fit = sarima_model.fit()\n",
    "# make prediction for the future\n",
    "predictions = sarima_model_fit.predict(start=len(temperature), end=len(temperature)+23)\n",
    "aic_score = sarima_model_fit.aic\n",
    "print(f'AIC: {aic_score:.3f}')"
   ]
  },
  {
   "cell_type": "code",
   "execution_count": 23,
   "metadata": {},
   "outputs": [],
   "source": [
    "last_timestamp = pd.to_datetime(temperature.index[-1])\n",
    "new_index = pd.date_range(start=last_timestamp, periods=25, closed='right', freq='H')\n",
    "predictions_df = pd.DataFrame(predictions)\n",
    "predictions_df.index = new_index"
   ]
  },
  {
   "cell_type": "markdown",
   "metadata": {},
   "source": [
    "## SARIMA Future Predictions - Visualization"
   ]
  },
  {
   "cell_type": "code",
   "execution_count": 24,
   "metadata": {},
   "outputs": [
    {
     "data": {
      "image/png": "[encoded data removed]",
      "text/plain": [
       "<Figure size 640x480 with 1 Axes>"
      ]
     },
     "metadata": {},
     "output_type": "display_data"
    }
   ],
   "source": [
    "train_series = temperature['temperature']\n",
    "predictions_series = predictions_df\n",
    "plt.plot(train_series.index, train_series, label='Actual Data')\n",
    "plt.plot(predictions_series.index, predictions_series, label='Predictions')\n",
    "# Add labels and legend\n",
    "plt.xlabel('Time')\n",
    "plt.ylabel('Values')\n",
    "plt.title('SARIMA Model - Train, and Predictions for the whole time')\n",
    "plt.legend()\n",
    "plt.xticks(rotation=45)\n",
    "plt.show()"
   ]
  },
  {
   "cell_type": "code",
   "execution_count": 25,
   "metadata": {},
   "outputs": [
    {
     "data": {
      "image/png": "[encoded data removed]",
      "text/plain": [
       "<Figure size 640x480 with 1 Axes>"
      ]
     },
     "metadata": {},
     "output_type": "display_data"
    }
   ],
   "source": [
    "last_date = train_series.index[-1]\n",
    "one_month_ago = last_date - pd.DateOffset(days=20)\n",
    "last_month_train_series = train_series[one_month_ago:last_date]\n",
    "predictions_series = predictions_df\n",
    "plt.plot(last_month_train_series.index, last_month_train_series, label='Last 20 days Actual Data')\n",
    "plt.plot(predictions_series.index, predictions_series, label='Predictions')\n",
    "plt.xlabel('Time')\n",
    "plt.ylabel('Temperature')\n",
    "plt.title('SARIMA Model - Last 20 days and Predictions - hourly data')\n",
    "plt.legend()\n",
    "plt.xticks(rotation=45)\n",
    "plt.show()"
   ]
  },
  {
   "cell_type": "markdown",
   "metadata": {},
   "source": [
    "# Section 4 - Results"
   ]
  },
  {
   "cell_type": "markdown",
   "metadata": {},
   "source": [
    "Based on the following analysis, these are the predictions for the next 23 hours:"
   ]
  },
  {
   "cell_type": "code",
   "execution_count": 26,
   "metadata": {
    "tags": []
   },
   "outputs": [
    {
     "data": {
      "text/html": [
       "<div>\n",
       "<style scoped>\n",
       "    .dataframe tbody tr th:only-of-type {\n",
       "        vertical-align: middle;\n",
       "    }\n",
       "\n",
       "    .dataframe tbody tr th {\n",
       "        vertical-align: top;\n",
       "    }\n",
       "\n",
       "    .dataframe thead th {\n",
       "        text-align: right;\n",
       "    }\n",
       "</style>\n",
       "<table border=\"1\" class=\"dataframe\">\n",
       "  <thead>\n",
       "    <tr style=\"text-align: right;\">\n",
       "      <th></th>\n",
       "      <th>predicted_mean</th>\n",
       "    </tr>\n",
       "  </thead>\n",
       "  <tbody>\n",
       "    <tr>\n",
       "      <th>2023-04-24 20:00:00</th>\n",
       "      <td>16.149083</td>\n",
       "    </tr>\n",
       "    <tr>\n",
       "      <th>2023-04-24 21:00:00</th>\n",
       "      <td>16.096306</td>\n",
       "    </tr>\n",
       "    <tr>\n",
       "      <th>2023-04-24 22:00:00</th>\n",
       "      <td>16.036139</td>\n",
       "    </tr>\n",
       "    <tr>\n",
       "      <th>2023-04-24 23:00:00</th>\n",
       "      <td>15.991153</td>\n",
       "    </tr>\n",
       "    <tr>\n",
       "      <th>2023-04-25 00:00:00</th>\n",
       "      <td>15.962243</td>\n",
       "    </tr>\n",
       "    <tr>\n",
       "      <th>2023-04-25 01:00:00</th>\n",
       "      <td>15.940927</td>\n",
       "    </tr>\n",
       "    <tr>\n",
       "      <th>2023-04-25 02:00:00</th>\n",
       "      <td>15.930605</td>\n",
       "    </tr>\n",
       "    <tr>\n",
       "      <th>2023-04-25 03:00:00</th>\n",
       "      <td>15.935400</td>\n",
       "    </tr>\n",
       "    <tr>\n",
       "      <th>2023-04-25 04:00:00</th>\n",
       "      <td>15.955375</td>\n",
       "    </tr>\n",
       "    <tr>\n",
       "      <th>2023-04-25 05:00:00</th>\n",
       "      <td>15.979911</td>\n",
       "    </tr>\n",
       "    <tr>\n",
       "      <th>2023-04-25 06:00:00</th>\n",
       "      <td>16.004670</td>\n",
       "    </tr>\n",
       "    <tr>\n",
       "      <th>2023-04-25 07:00:00</th>\n",
       "      <td>16.037835</td>\n",
       "    </tr>\n",
       "    <tr>\n",
       "      <th>2023-04-25 08:00:00</th>\n",
       "      <td>16.074342</td>\n",
       "    </tr>\n",
       "    <tr>\n",
       "      <th>2023-04-25 09:00:00</th>\n",
       "      <td>16.105260</td>\n",
       "    </tr>\n",
       "    <tr>\n",
       "      <th>2023-04-25 10:00:00</th>\n",
       "      <td>16.127363</td>\n",
       "    </tr>\n",
       "    <tr>\n",
       "      <th>2023-04-25 11:00:00</th>\n",
       "      <td>16.149266</td>\n",
       "    </tr>\n",
       "    <tr>\n",
       "      <th>2023-04-25 12:00:00</th>\n",
       "      <td>16.167731</td>\n",
       "    </tr>\n",
       "    <tr>\n",
       "      <th>2023-04-25 13:00:00</th>\n",
       "      <td>16.176075</td>\n",
       "    </tr>\n",
       "    <tr>\n",
       "      <th>2023-04-25 14:00:00</th>\n",
       "      <td>16.172858</td>\n",
       "    </tr>\n",
       "    <tr>\n",
       "      <th>2023-04-25 15:00:00</th>\n",
       "      <td>16.169038</td>\n",
       "    </tr>\n",
       "    <tr>\n",
       "      <th>2023-04-25 16:00:00</th>\n",
       "      <td>16.163112</td>\n",
       "    </tr>\n",
       "    <tr>\n",
       "      <th>2023-04-25 17:00:00</th>\n",
       "      <td>16.150031</td>\n",
       "    </tr>\n",
       "    <tr>\n",
       "      <th>2023-04-25 18:00:00</th>\n",
       "      <td>16.129574</td>\n",
       "    </tr>\n",
       "    <tr>\n",
       "      <th>2023-04-25 19:00:00</th>\n",
       "      <td>16.113442</td>\n",
       "    </tr>\n",
       "  </tbody>\n",
       "</table>\n",
       "</div>"
      ],
      "text/plain": [
       "                     predicted_mean\n",
       "2023-04-24 20:00:00       16.149083\n",
       "2023-04-24 21:00:00       16.096306\n",
       "2023-04-24 22:00:00       16.036139\n",
       "2023-04-24 23:00:00       15.991153\n",
       "2023-04-25 00:00:00       15.962243\n",
       "2023-04-25 01:00:00       15.940927\n",
       "2023-04-25 02:00:00       15.930605\n",
       "2023-04-25 03:00:00       15.935400\n",
       "2023-04-25 04:00:00       15.955375\n",
       "2023-04-25 05:00:00       15.979911\n",
       "2023-04-25 06:00:00       16.004670\n",
       "2023-04-25 07:00:00       16.037835\n",
       "2023-04-25 08:00:00       16.074342\n",
       "2023-04-25 09:00:00       16.105260\n",
       "2023-04-25 10:00:00       16.127363\n",
       "2023-04-25 11:00:00       16.149266\n",
       "2023-04-25 12:00:00       16.167731\n",
       "2023-04-25 13:00:00       16.176075\n",
       "2023-04-25 14:00:00       16.172858\n",
       "2023-04-25 15:00:00       16.169038\n",
       "2023-04-25 16:00:00       16.163112\n",
       "2023-04-25 17:00:00       16.150031\n",
       "2023-04-25 18:00:00       16.129574\n",
       "2023-04-25 19:00:00       16.113442"
      ]
     },
     "execution_count": 26,
     "metadata": {},
     "output_type": "execute_result"
    }
   ],
   "source": [
    "predictions_df.head(24)"
   ]
  },
  {
   "cell_type": "markdown",
   "metadata": {},
   "source": [
    "This code is free software: you can redistribute it and/or modify it under the terms of the European Union Public License as published by the European Union, under version 1.2. Copyright (c) [2023] [FES Germany]."
   ]
  }
 ],
 "metadata": {
  "deepnote": {},
  "deepnote_execution_queue": [],
  "deepnote_notebook_id": "0c1ad006bbd74860acc3f80ebe736a79",
  "kernelspec": {
   "display_name": "Python 3 (ipykernel)",
   "language": "python",
   "name": "python3"
  },
  "language_info": {
   "codemirror_mode": {
    "name": "ipython",
    "version": 3
   },
   "file_extension": ".py",
   "mimetype": "text/x-python",
   "name": "python",
   "nbconvert_exporter": "python",
   "pygments_lexer": "ipython3",
   "version": "3.8.5"
  }
 },
 "nbformat": 4,
 "nbformat_minor": 4
}
