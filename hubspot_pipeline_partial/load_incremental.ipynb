{
 "cells": [
  {
   "cell_type": "code",
   "execution_count": 0,
   "metadata": {
    "application/vnd.databricks.v1+cell": {
     "cellMetadata": {},
     "inputWidgets": {},
     "nuid": "65e06af3-0aa2-4ec2-a94c-253cc72409e6",
     "showTitle": false,
     "title": ""
    }
   },
   "outputs": [],
   "source": [
    "import sys\n",
    "sys.path.append('../')"
   ]
  },
  {
   "cell_type": "code",
   "execution_count": 0,
   "metadata": {
    "application/vnd.databricks.v1+cell": {
     "cellMetadata": {},
     "inputWidgets": {},
     "nuid": "0b6b676e-1bb8-44c5-b7d8-293f2cf13dac",
     "showTitle": false,
     "title": ""
    }
   },
   "outputs": [],
   "source": [
    "%load_ext autoreload"
   ]
  },
  {
   "cell_type": "code",
   "execution_count": 0,
   "metadata": {
    "application/vnd.databricks.v1+cell": {
     "cellMetadata": {},
     "inputWidgets": {},
     "nuid": "165822fb-c8a9-4de4-b1d0-0b9dce6e0d23",
     "showTitle": false,
     "title": ""
    }
   },
   "outputs": [],
   "source": [
    "%autoreload 2"
   ]
  },
  {
   "cell_type": "code",
   "execution_count": 0,
   "metadata": {
    "application/vnd.databricks.v1+cell": {
     "cellMetadata": {},
     "inputWidgets": {},
     "nuid": "330befd4-d882-468a-b112-fb9aa661c34a",
     "showTitle": false,
     "title": ""
    }
   },
   "outputs": [],
   "source": [
    "import requests \n",
    "import pandas as pd\n",
    "import urllib.parse\n",
    "import json\n",
    "import time\n",
    "from datetime import date\n",
    "import math\n",
    "\n",
    "from common import *"
   ]
  },
  {
   "cell_type": "code",
   "execution_count": 0,
   "metadata": {
    "application/vnd.databricks.v1+cell": {
     "cellMetadata": {},
     "inputWidgets": {},
     "nuid": "fb353c50-1a07-46a1-a310-82d8c05733f5",
     "showTitle": false,
     "title": ""
    }
   },
   "outputs": [],
   "source": [
    "since, datestr = get_max_value_from_last_file(\"companies\", \"properties.hs_lastmodifieddate.timestamp\")\n",
    "\n",
    "\n",
    "if json_exists('companies', datestr):\n",
    "   raise ValueError('data for today already exist. If you want to proceed, comment these lines')\n",
    "\n",
    "# token=dbutils.secrets.get()\n",
    "\n",
    "print(datestr, since)"
   ]
  },
  {
   "cell_type": "code",
   "execution_count": 0,
   "metadata": {
    "application/vnd.databricks.v1+cell": {
     "cellMetadata": {},
     "inputWidgets": {},
     "nuid": "ae16e299-4054-4174-9454-d3f6ae423636",
     "showTitle": false,
     "title": ""
    }
   },
   "outputs": [],
   "source": [
    "##Get all company properties (custom and default) and load into string used in URL\n",
    "property_string = get_all_properties('companies/properties', 'properties', token)\n",
    "print(property_string[:1000])"
   ]
  },
  {
   "cell_type": "code",
   "execution_count": 0,
   "metadata": {
    "application/vnd.databricks.v1+cell": {
     "cellMetadata": {},
     "inputWidgets": {},
     "nuid": "259a7e1b-f50f-45a8-9336-7e872ef3fc9d",
     "showTitle": false,
     "title": ""
    }
   },
   "outputs": [],
   "source": [
    "#Get all created or modified companies\n",
    "company_list=[]\n",
    "url= f'https://api.hubapi.com/companies/v2/companies/recent/modified?'\n",
    "headers = {\n",
    "  'content-type': 'application/json',\n",
    "  'authorization': f'Bearer {token}'\n",
    "}\n",
    "\n",
    "file_count = 0\n",
    "hasMore = True\n",
    "\n",
    "parameter_dict = {'since': since, 'offset': 0, 'count':100}\n",
    "\n",
    "while hasMore:\n",
    "    parameters = urllib.parse.urlencode(parameter_dict)\n",
    "    get_url = url + parameters + property_string\n",
    "    \n",
    "    try:\n",
    "        r = request_with_retry(get_url, headers)\n",
    "    \n",
    "    except Exception as e:\n",
    "        if len(company_list) > 0:\n",
    "            file_name=str(file_count).zfill(5)\n",
    "            save_new_json(company_list, 'companies', datestr, file_name)\n",
    "            file_count +=1\n",
    "            contact_list = []\n",
    "\n",
    "    response_dict = json.loads(r.text)\n",
    "    print(response_dict[\"total\"])  \n",
    "        \n",
    "    response_dict = json.loads(r.text)\n",
    "    \n",
    "    timestamps = [record['properties']['hs_lastmodifieddate']['timestamp'] for record in response_dict['results']]\n",
    "    if len(timestamps) > 0:\n",
    "        print(min(timestamps), max(timestamps))\n",
    "    \n",
    "    company_list.extend(response_dict['results'])\n",
    "    hasMore=response_dict['hasMore']\n",
    "    parameter_dict['offset'] = response_dict['offset']\n",
    "    \n",
    "    print(f'{response_dict[\"total\"]=}, {response_dict[\"offset\"]=} {parameter_dict[\"since\"]=}')\n",
    "    \n",
    "    if len(company_list)>= 10000:  #10000 partial saves\n",
    "        company_list = []\n",
    "        file_name = str(file_count).zfill(5)\n",
    "        save_new_json(company_list, 'companies', datestr, file_name)\n",
    "        file_count += 1\n",
    "\n",
    "    if response_dict['hasMore']==False or response_dict[\"offset\"] == 10000:\n",
    "        file_name=str(file_count).zfill(5)\n",
    "        save_new_json(company_list, 'companies', datestr, file_name)\n",
    "        \n",
    "        if response_dict[\"offset\"] >= 10000:\n",
    "            warnings.warn('Offset 10000 reached, run me more often!')\n",
    "            delete_folder_with_current_incremental_data('companies', datestr, dbutils)\n",
    "\n",
    "            #running full load\n",
    "            target_notebook_path = \"load_full\"\n",
    "            result = dbutils.notebook.run(target_notebook_path, 0, {\"datestr\": datestr})\n",
    "\n",
    "        break\n",
    "        \n",
    "print(\"You've succesfully parsed through {} contact records and added them to a list\".format(len(company_list)))"
   ]
  },
  {
   "cell_type": "code",
   "execution_count": 0,
   "metadata": {
    "application/vnd.databricks.v1+cell": {
     "cellMetadata": {},
     "inputWidgets": {},
     "nuid": "41b407ae-898c-475f-a6e8-bdc374997ad0",
     "showTitle": false,
     "title": ""
    }
   },
   "outputs": [],
   "source": [
    "company_list[:50]"
   ]
  },
  {
   "cell_type": "code",
   "execution_count": 0,
   "metadata": {
    "application/vnd.databricks.v1+cell": {
     "cellMetadata": {},
     "inputWidgets": {},
     "nuid": "7bb623f4-e1db-4215-a759-af947ba8fadb",
     "showTitle": false,
     "title": ""
    }
   },
   "outputs": [],
   "source": [
    "company_list[-50:]"
   ]
  }
 ],
 "metadata": {
  "application/vnd.databricks.v1+notebook": {
   "dashboards": [],
   "language": "python",
   "notebookMetadata": {
    "pythonIndentUnit": 4
   },
   "notebookName": "load_incremental",
   "widgets": {}
  },
  "kernelspec": {
   "display_name": "Python 3 (ipykernel)",
   "language": "python",
   "name": "python3"
  },
  "language_info": {
   "codemirror_mode": {
    "name": "ipython",
    "version": 3
   },
   "file_extension": ".py",
   "mimetype": "text/x-python",
   "name": "python",
   "nbconvert_exporter": "python",
   "pygments_lexer": "ipython3",
   "version": "3.8.5"
  }
 },
 "nbformat": 4,
 "nbformat_minor": 1
}
