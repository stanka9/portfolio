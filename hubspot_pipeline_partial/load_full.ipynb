{
 "cells": [
  {
   "cell_type": "code",
   "execution_count": 0,
   "metadata": {
    "application/vnd.databricks.v1+cell": {
     "cellMetadata": {},
     "inputWidgets": {},
     "nuid": "4532824b-cb65-494e-80a3-61a96a90f252",
     "showTitle": false,
     "title": ""
    }
   },
   "outputs": [],
   "source": [
    "import sys\n",
    "sys.path.append('../')"
   ]
  },
  {
   "cell_type": "code",
   "execution_count": 0,
   "metadata": {
    "application/vnd.databricks.v1+cell": {
     "cellMetadata": {},
     "inputWidgets": {},
     "nuid": "f85e679f-61e5-4fa1-b7ea-9c00817564b1",
     "showTitle": false,
     "title": ""
    }
   },
   "outputs": [],
   "source": [
    "import requests \n",
    "import pandas as pd\n",
    "import urllib.parse\n",
    "import json\n",
    "from datetime import datetime\n",
    "import pyspark.sql.types as T\n",
    "from common import *"
   ]
  },
  {
   "cell_type": "code",
   "execution_count": 0,
   "metadata": {
    "application/vnd.databricks.v1+cell": {
     "cellMetadata": {},
     "inputWidgets": {},
     "nuid": "4e7f301d-4d5c-4400-b7c5-3d47e2911a24",
     "showTitle": false,
     "title": ""
    }
   },
   "outputs": [],
   "source": [
    "dbutils.widgets.text(\"datestr\", \"\", \"Date String\")\n",
    "datestr = dbutils.widgets.get(\"datestr\")\n",
    "print(datestr)\n",
    "\n",
    "#if not passed as part of load - create ur own \n",
    "if datestr == '':\n",
    "    today = datetime.now()\n",
    "    datestr = today.strftime(\"%Y%m%d_%H%M%S\")"
   ]
  },
  {
   "cell_type": "code",
   "execution_count": 0,
   "metadata": {
    "application/vnd.databricks.v1+cell": {
     "cellMetadata": {},
     "inputWidgets": {},
     "nuid": "8d06d3da-c5e1-4219-8a08-18831c84a663",
     "showTitle": false,
     "title": ""
    }
   },
   "outputs": [],
   "source": [
    "# token=dbutils.secrets.get()"
   ]
  },
  {
   "cell_type": "code",
   "execution_count": 0,
   "metadata": {
    "application/vnd.databricks.v1+cell": {
     "cellMetadata": {},
     "inputWidgets": {},
     "nuid": "dab3e755-32ea-4f2e-9985-3d661ca1ee0c",
     "showTitle": false,
     "title": ""
    }
   },
   "outputs": [],
   "source": [
    "##Get all company properties (custom and default) and load into string used in URL\n",
    "url= f'https://api.hubapi.com/properties/v1/companies/properties'\n",
    "headers = {\n",
    "  'content-type': 'application/json',\n",
    "  'authorization': f'Bearer {token}'\n",
    "}\n",
    "r=requests.request('GET',url=url,headers=headers)\n",
    "properties=r.json()\n",
    "\n",
    "property_string=''\n",
    "for i in range(0,len(properties)):\n",
    "    p = properties[i].get('name')\n",
    "    property_string +=f'&properties={p}'"
   ]
  },
  {
   "cell_type": "code",
   "execution_count": 0,
   "metadata": {
    "application/vnd.databricks.v1+cell": {
     "cellMetadata": {},
     "inputWidgets": {},
     "nuid": "e8413d56-18f3-44bc-a560-2e9b93d1315a",
     "showTitle": false,
     "title": ""
    }
   },
   "outputs": [],
   "source": [
    "#Get all companies\n",
    "company_list = []\n",
    "url = \"https://api.hubapi.com/companies/v2/companies/paged?\" \n",
    "parameter_dict = {'limit': 250, 'offset': 0}\n",
    "headers = {\n",
    "  'content-type': 'application/json',\n",
    "  'authorization': f'Bearer {token}'\n",
    "}\n",
    "\n",
    "file_count = 0\n",
    "# Paginate your request using offset\n",
    "has_more = True\n",
    "while has_more:\n",
    "    \n",
    "    parameters = urllib.parse.urlencode(parameter_dict)\n",
    "    get_url = url + parameters + property_string\n",
    "    \n",
    "    try:\n",
    "        r = request_with_retry(get_url, headers)\n",
    "        \n",
    "    except Exception as e: \n",
    "        if len(company_list)>0:\n",
    "            file_name=str(file_count).zfill(5)\n",
    "            save_new_json(company_list, 'companies', datestr, file_name)\n",
    "            file_count += 1\n",
    "            company_list = []\n",
    "    \n",
    "    response_dict = json.loads(r.text)       \n",
    "    company_list.extend(response_dict['companies'])\n",
    "    has_more=response_dict['has-more']\n",
    "    parameter_dict['offset'] = response_dict['offset']\n",
    "    \n",
    "    if len(company_list) > 10000:\n",
    "        file_name = str(file_count).zfill(5)\n",
    "        save_new_json(company_list, 'companies', datestr, file_name)\n",
    "        file_count += 1\n",
    "        company_list = []\n",
    "    if not has_more:\n",
    "        file_name = str(file_count).zfill(5)\n",
    "        save_new_json(company_list, 'companies', datestr, file_name)\n",
    "        break \n"
   ]
  },
  {
   "cell_type": "code",
   "execution_count": 0,
   "metadata": {
    "application/vnd.databricks.v1+cell": {
     "cellMetadata": {},
     "inputWidgets": {},
     "nuid": "bef99465-e480-46f4-86f2-de8c6e294d2e",
     "showTitle": false,
     "title": ""
    }
   },
   "outputs": [],
   "source": []
  }
 ],
 "metadata": {
  "application/vnd.databricks.v1+notebook": {
   "dashboards": [],
   "language": "python",
   "notebookMetadata": {},
   "notebookName": "load_full",
   "widgets": {}
  },
  "kernelspec": {
   "display_name": "Python 3 (ipykernel)",
   "language": "python",
   "name": "python3"
  },
  "language_info": {
   "codemirror_mode": {
    "name": "ipython",
    "version": 3
   },
   "file_extension": ".py",
   "mimetype": "text/x-python",
   "name": "python",
   "nbconvert_exporter": "python",
   "pygments_lexer": "ipython3",
   "version": "3.8.5"
  }
 },
 "nbformat": 4,
 "nbformat_minor": 1
}
